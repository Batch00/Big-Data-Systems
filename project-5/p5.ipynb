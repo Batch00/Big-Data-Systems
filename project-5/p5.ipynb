{
 "cells": [
  {
   "cell_type": "code",
   "execution_count": 1,
   "id": "a6c3c5a6-ab44-4c6c-87dd-1a141ea64d4f",
   "metadata": {},
   "outputs": [],
   "source": [
    "# Carson Batchelor"
   ]
  },
  {
   "cell_type": "code",
   "execution_count": 2,
   "id": "db54bfd7-fbb5-4a96-8358-f95a90e22862",
   "metadata": {},
   "outputs": [],
   "source": [
    "#! hdfs dfsadmin -fs hdfs://nn:9000 -report\n",
    "! hdfs dfs -D dfs.replication=1 -cp -f data/*.csv hdfs://nn:9000/\n",
    "#! hdfs dfs -ls hdfs://nn:9000/"
   ]
  },
  {
   "cell_type": "code",
   "execution_count": 3,
   "id": "0aad0338-f756-4f50-af6c-91adedc70f77",
   "metadata": {},
   "outputs": [
    {
     "name": "stderr",
     "output_type": "stream",
     "text": [
      "Setting default log level to \"WARN\".\n",
      "To adjust logging level use sc.setLogLevel(newLevel). For SparkR, use setLogLevel(newLevel).\n",
      "23/10/31 19:33:35 WARN NativeCodeLoader: Unable to load native-hadoop library for your platform... using builtin-java classes where applicable\n"
     ]
    }
   ],
   "source": [
    "from pyspark.sql import SparkSession\n",
    "spark = (SparkSession.builder.appName(\"cs544\")\n",
    "         .master(\"spark://boss:7077\")\n",
    "         .config(\"spark.executor.memory\", \"512M\")\n",
    "         .config(\"spark.sql.warehouse.dir\", \"hdfs://nn:9000/user/hive/warehouse\")\n",
    "         .enableHiveSupport()\n",
    "         .getOrCreate())"
   ]
  },
  {
   "cell_type": "code",
   "execution_count": 4,
   "id": "fbebd654-7fdd-4979-afa3-c106bf962c0b",
   "metadata": {},
   "outputs": [
    {
     "name": "stderr",
     "output_type": "stream",
     "text": [
      "                                                                                \r"
     ]
    },
    {
     "data": {
      "text/plain": [
       "525"
      ]
     },
     "execution_count": 4,
     "metadata": {},
     "output_type": "execute_result"
    }
   ],
   "source": [
    "#q1\n",
    "banks_df = spark.read.csv(\"hdfs://nn:9000/arid2017_to_lei_xref_csv.csv\", header=True, inferSchema=True)\n",
    "first_banks_count = banks_df.rdd.filter(lambda row: \"first\" in row['respondent_name'].lower()).count()\n",
    "first_banks_count"
   ]
  },
  {
   "cell_type": "code",
   "execution_count": 5,
   "id": "34fd2696-4789-48c6-a788-1a2450a43d1c",
   "metadata": {},
   "outputs": [
    {
     "data": {
      "text/plain": [
       "525"
      ]
     },
     "execution_count": 5,
     "metadata": {},
     "output_type": "execute_result"
    }
   ],
   "source": [
    "#q2\n",
    "from pyspark.sql.functions import lower\n",
    "first_banks_count = banks_df.filter(lower(banks_df[\"respondent_name\"]).like(\"%first%\")).count()\n",
    "first_banks_count"
   ]
  },
  {
   "cell_type": "code",
   "execution_count": 6,
   "id": "f5780d2b-3953-4ef1-bd5b-32f0f4882834",
   "metadata": {},
   "outputs": [
    {
     "name": "stderr",
     "output_type": "stream",
     "text": [
      "23/10/31 19:34:16 WARN HiveConf: HiveConf of name hive.stats.jdbc.timeout does not exist\n",
      "23/10/31 19:34:16 WARN HiveConf: HiveConf of name hive.stats.retries.wait does not exist\n",
      "23/10/31 19:34:21 WARN ObjectStore: Version information not found in metastore. hive.metastore.schema.verification is not enabled so recording the schema version 2.3.0\n",
      "23/10/31 19:34:21 WARN ObjectStore: setMetaStoreSchemaVersion called but recording version is disabled: version = 2.3.0, comment = Set by MetaStore UNKNOWN@172.22.0.2\n",
      "23/10/31 19:34:22 WARN ObjectStore: Failed to get database global_temp, returning NoSuchObjectException\n",
      "23/10/31 19:34:27 WARN SessionState: METASTORE_FILTER_HOOK will be ignored, since hive.security.authorization.manager is set to instance of HiveAuthorizerFactory.\n",
      "23/10/31 19:34:27 WARN HiveConf: HiveConf of name hive.internal.ss.authz.settings.applied.marker does not exist\n",
      "23/10/31 19:34:27 WARN HiveConf: HiveConf of name hive.stats.jdbc.timeout does not exist\n",
      "23/10/31 19:34:27 WARN HiveConf: HiveConf of name hive.stats.retries.wait does not exist\n",
      "                                                                                \r"
     ]
    },
    {
     "data": {
      "text/plain": [
       "525"
      ]
     },
     "execution_count": 6,
     "metadata": {},
     "output_type": "execute_result"
    }
   ],
   "source": [
    "#q3\n",
    "banks_df.write.saveAsTable(\"banks\", mode=\"overwrite\")\n",
    "result_df = spark.sql(\"\"\"\n",
    "SELECT COUNT(*) AS count \n",
    "FROM banks \n",
    "WHERE LOWER(respondent_name) LIKE '%first%'\n",
    "\"\"\").toPandas()\n",
    "result_df[\"count\"][0]"
   ]
  },
  {
   "cell_type": "code",
   "execution_count": 7,
   "id": "1aad3a81-999c-400b-aba6-3c07f304b355",
   "metadata": {},
   "outputs": [
    {
     "name": "stderr",
     "output_type": "stream",
     "text": [
      "23/10/31 19:34:43 WARN SparkStringUtils: Truncated the string representation of a plan since it was too large. This behavior can be adjusted by setting 'spark.sql.debug.maxToStringFields'.\n",
      "                                                                                \r"
     ]
    }
   ],
   "source": [
    "loans_df = spark.read.csv(\"hdfs://nn:9000/hdma-wi-2021.csv\", header=True, inferSchema=True)\n",
    "loans_df.write.bucketBy(8, \"county_code\").saveAsTable(\"loans\", format=\"parquet\", mode=\"overwrite\")"
   ]
  },
  {
   "cell_type": "code",
   "execution_count": 8,
   "id": "7be8f833-59df-4cf7-9879-f7b6d942d85d",
   "metadata": {},
   "outputs": [
    {
     "name": "stderr",
     "output_type": "stream",
     "text": [
      "                                                                                \r"
     ]
    }
   ],
   "source": [
    "csv_files = [\"ethnicity\", \"race\", \"sex\", \"states\", \"counties\", \"tracts\", \"action_taken\",\n",
    "             \"denial_reason\", \"loan_type\", \"loan_purpose\", \"preapproval\", \"property_type\"]\n",
    "for file_name in csv_files:\n",
    "    view_df = spark.read.csv(f\"hdfs://nn:9000/{file_name}.csv\", header=True, inferSchema=True)\n",
    "    view_df.createOrReplaceTempView(file_name)"
   ]
  },
  {
   "cell_type": "code",
   "execution_count": 9,
   "id": "7e821d4b-f97b-45a7-9fd4-50432d68c20b",
   "metadata": {},
   "outputs": [
    {
     "name": "stdout",
     "output_type": "stream",
     "text": [
      "+---------+-------------+-----------+\n",
      "|namespace|    tableName|isTemporary|\n",
      "+---------+-------------+-----------+\n",
      "|  default|        banks|      false|\n",
      "|  default|        loans|      false|\n",
      "|         | action_taken|       true|\n",
      "|         |     counties|       true|\n",
      "|         |denial_reason|       true|\n",
      "|         |    ethnicity|       true|\n",
      "|         | loan_purpose|       true|\n",
      "|         |    loan_type|       true|\n",
      "|         |  preapproval|       true|\n",
      "|         |property_type|       true|\n",
      "|         |         race|       true|\n",
      "|         |          sex|       true|\n",
      "|         |       states|       true|\n",
      "|         |       tracts|       true|\n",
      "+---------+-------------+-----------+\n",
      "\n"
     ]
    }
   ],
   "source": [
    "spark.sql(\"SHOW TABLES\").show()"
   ]
  },
  {
   "cell_type": "code",
   "execution_count": 10,
   "id": "8cd0cd4c-dffe-47d0-9055-74e32df54b93",
   "metadata": {},
   "outputs": [
    {
     "data": {
      "text/plain": [
       "{'banks': False,\n",
       " 'loans': False,\n",
       " 'action_taken': True,\n",
       " 'counties': True,\n",
       " 'denial_reason': True,\n",
       " 'ethnicity': True,\n",
       " 'loan_purpose': True,\n",
       " 'loan_type': True,\n",
       " 'preapproval': True,\n",
       " 'property_type': True,\n",
       " 'race': True,\n",
       " 'sex': True,\n",
       " 'states': True,\n",
       " 'tracts': True}"
      ]
     },
     "execution_count": 10,
     "metadata": {},
     "output_type": "execute_result"
    }
   ],
   "source": [
    "#q4\n",
    "table_dict = {}\n",
    "for row in spark.sql(\"SHOW TABLES\").collect():\n",
    "    table_dict[row[\"tableName\"]] = row[\"isTemporary\"]\n",
    "\n",
    "table_dict"
   ]
  },
  {
   "cell_type": "code",
   "execution_count": 11,
   "id": "2b08cec0-c3ff-4d1d-a976-018abd833bd4",
   "metadata": {},
   "outputs": [
    {
     "name": "stderr",
     "output_type": "stream",
     "text": [
      "                                                                                \r"
     ]
    },
    {
     "data": {
      "text/plain": [
       "19739"
      ]
     },
     "execution_count": 11,
     "metadata": {},
     "output_type": "execute_result"
    }
   ],
   "source": [
    "#q5\n",
    "loan_count = spark.sql(\"\"\"\n",
    "    SELECT COUNT(*) AS loan_count\n",
    "    FROM banks\n",
    "    INNER JOIN loans ON banks.lei_2020 = loans.lei\n",
    "    WHERE banks.respondent_name = 'University of Wisconsin Credit Union'\n",
    "\"\"\").toPandas()\n",
    "loan_count[\"loan_count\"][0]"
   ]
  },
  {
   "cell_type": "code",
   "execution_count": 12,
   "id": "3d8c2911-21f1-4318-bfc9-29a2f1672f50",
   "metadata": {},
   "outputs": [
    {
     "name": "stdout",
     "output_type": "stream",
     "text": [
      "== Physical Plan ==\n",
      "AdaptiveSparkPlan (12)\n",
      "+- HashAggregate (11)\n",
      "   +- Exchange (10)\n",
      "      +- HashAggregate (9)\n",
      "         +- Project (8)\n",
      "            +- BroadcastHashJoin Inner BuildLeft (7)\n",
      "               :- BroadcastExchange (4)\n",
      "               :  +- Project (3)\n",
      "               :     +- Filter (2)\n",
      "               :        +- Scan parquet spark_catalog.default.banks (1)\n",
      "               +- Filter (6)\n",
      "                  +- Scan parquet spark_catalog.default.loans (5)\n",
      "\n",
      "\n",
      "(1) Scan parquet spark_catalog.default.banks\n",
      "Output [2]: [respondent_name#66, lei_2020#70]\n",
      "Batched: true\n",
      "Location: InMemoryFileIndex [hdfs://nn:9000/user/hive/warehouse/banks]\n",
      "PushedFilters: [IsNotNull(respondent_name), EqualTo(respondent_name,University of Wisconsin Credit Union), IsNotNull(lei_2020)]\n",
      "ReadSchema: struct<respondent_name:string,lei_2020:string>\n",
      "\n",
      "(2) Filter\n",
      "Input [2]: [respondent_name#66, lei_2020#70]\n",
      "Condition : ((isnotnull(respondent_name#66) AND (respondent_name#66 = University of Wisconsin Credit Union)) AND isnotnull(lei_2020#70))\n",
      "\n",
      "(3) Project\n",
      "Output [1]: [lei_2020#70]\n",
      "Input [2]: [respondent_name#66, lei_2020#70]\n",
      "\n",
      "(4) BroadcastExchange\n",
      "Input [1]: [lei_2020#70]\n",
      "Arguments: HashedRelationBroadcastMode(List(input[0, string, true]),false), [plan_id=629]\n",
      "\n",
      "(5) Scan parquet spark_catalog.default.loans\n",
      "Output [1]: [lei#1018]\n",
      "Batched: true\n",
      "Bucketed: false (bucket column(s) not read)\n",
      "Location: InMemoryFileIndex [hdfs://nn:9000/user/hive/warehouse/loans]\n",
      "PushedFilters: [IsNotNull(lei)]\n",
      "ReadSchema: struct<lei:string>\n",
      "\n",
      "(6) Filter\n",
      "Input [1]: [lei#1018]\n",
      "Condition : isnotnull(lei#1018)\n",
      "\n",
      "(7) BroadcastHashJoin\n",
      "Left keys [1]: [lei_2020#70]\n",
      "Right keys [1]: [lei#1018]\n",
      "Join type: Inner\n",
      "Join condition: None\n",
      "\n",
      "(8) Project\n",
      "Output: []\n",
      "Input [2]: [lei_2020#70, lei#1018]\n",
      "\n",
      "(9) HashAggregate\n",
      "Input: []\n",
      "Keys: []\n",
      "Functions [1]: [partial_count(1)]\n",
      "Aggregate Attributes [1]: [count#1123L]\n",
      "Results [1]: [count#1124L]\n",
      "\n",
      "(10) Exchange\n",
      "Input [1]: [count#1124L]\n",
      "Arguments: SinglePartition, ENSURE_REQUIREMENTS, [plan_id=634]\n",
      "\n",
      "(11) HashAggregate\n",
      "Input [1]: [count#1124L]\n",
      "Keys: []\n",
      "Functions [1]: [count(1)]\n",
      "Aggregate Attributes [1]: [count(1)#1121L]\n",
      "Results [1]: [count(1)#1121L AS loan_count#1120L]\n",
      "\n",
      "(12) AdaptiveSparkPlan\n",
      "Output [1]: [loan_count#1120L]\n",
      "Arguments: isFinalPlan=false\n",
      "\n",
      "\n"
     ]
    }
   ],
   "source": [
    "#q6\n",
    "spark.sql(\"\"\"\n",
    "    SELECT COUNT(*) AS loan_count\n",
    "    FROM banks\n",
    "    INNER JOIN loans ON banks.lei_2020 = loans.lei\n",
    "    WHERE banks.respondent_name = 'University of Wisconsin Credit Union'\n",
    "\"\"\").explain(\"formatted\")\n",
    "\n",
    "# 1. The banks table is sent to every executor via a BroadcastExchange operation\n",
    "# I know this because in the (4) BroadcastExchange step in the plan, it is broadcasting \"lei_200\" column from the banks table to the worker nodes\n",
    "# 2. Yes the plan involves two HashAggregate operations.\n",
    "# The first operation is after the join with the aggregate function used being partial_count(1) to calulation a partial count of rows\n",
    "# The second operation is after the first one and uses the function count(1) to calculate the final count of loan apps recieved by a bank"
   ]
  },
  {
   "cell_type": "code",
   "execution_count": 13,
   "id": "16c2f99d-4064-45a8-9efc-5dde6e14367c",
   "metadata": {},
   "outputs": [
    {
     "name": "stderr",
     "output_type": "stream",
     "text": [
      "                                                                                \r"
     ]
    }
   ],
   "source": [
    "wells_fargo = spark.sql(\"\"\"\n",
    "    SELECT *\n",
    "    FROM banks\n",
    "    INNER JOIN loans ON banks.lei_2020 = loans.lei\n",
    "    WHERE banks.respondent_name LIKE '%Wells Fargo%'\n",
    "\"\"\").createOrReplaceTempView(\"wells_fargo\")\n",
    "\n",
    "counties_names = spark.sql(\"\"\"\n",
    "    SELECT DISTINCT COUNTY, NAME\n",
    "    FROM counties\n",
    "    WHERE STATE == 55 \n",
    "\"\"\").toPandas()"
   ]
  },
  {
   "cell_type": "code",
   "execution_count": 14,
   "id": "36ff0c15-4a3a-470d-a7c2-ba577c5c8111",
   "metadata": {},
   "outputs": [
    {
     "name": "stderr",
     "output_type": "stream",
     "text": [
      "                                                                                \r"
     ]
    },
    {
     "data": {
      "text/plain": [
       "{'Milwaukee': 3.1173465727097907,\n",
       " 'Waukesha': 2.8758225602027756,\n",
       " 'Washington': 2.851009389671362,\n",
       " 'Dane': 2.890674955595027,\n",
       " 'Brown': 3.010949119373777,\n",
       " 'Racine': 3.099783715012723,\n",
       " 'Outagamie': 2.979661835748792,\n",
       " 'Winnebago': 3.0284761904761908,\n",
       " 'Ozaukee': 2.8673765432098772,\n",
       " 'Sheboygan': 2.995511111111111}"
      ]
     },
     "execution_count": 14,
     "metadata": {},
     "output_type": "execute_result"
    }
   ],
   "source": [
    "#q7\n",
    "avg_rates = spark.sql(\"\"\"\n",
    "    SELECT county_code, AVG(interest_rate) AS avg_interest_rate\n",
    "    FROM wells_fargo\n",
    "    GROUP BY county_code\n",
    "    ORDER BY COUNT(*) DESC\n",
    "    LIMIT 10\n",
    "\"\"\").toPandas()\n",
    "avg_rates_dict = dict(zip(avg_rates[\"county_code\"], avg_rates[\"avg_interest_rate\"]))\n",
    "\n",
    "named_avg_rates = {}\n",
    "for key, value in avg_rates_dict.items():\n",
    "    county_name = counties_names.loc[counties_names[\"COUNTY\"] == int(key[-3:]), \"NAME\"].values[0]\n",
    "    named_avg_rates[county_name] = value\n",
    "named_avg_rates"
   ]
  },
  {
   "cell_type": "code",
   "execution_count": 15,
   "id": "a64af82e-f021-4e15-84c7-9e22dee32796",
   "metadata": {},
   "outputs": [
    {
     "data": {
      "image/png": "[encoded data removed]",
      "text/plain": [
       "<Figure size 1000x600 with 1 Axes>"
      ]
     },
     "metadata": {},
     "output_type": "display_data"
    }
   ],
   "source": [
    "import matplotlib.pyplot as plt\n",
    "plt.figure(figsize=(10, 6))\n",
    "plt.bar(named_avg_rates.keys(), named_avg_rates.values())\n",
    "plt.xlabel('name')\n",
    "plt.ylabel('Average Interest Rate')\n",
    "plt.title('Average Interest Rates by County')\n",
    "plt.xticks(rotation=90)\n",
    "plt.tight_layout()\n",
    "plt.show()"
   ]
  },
  {
   "cell_type": "code",
   "execution_count": 16,
   "id": "8582d44c-e527-4e63-b132-4b39f6723b8c",
   "metadata": {},
   "outputs": [
    {
     "name": "stdout",
     "output_type": "stream",
     "text": [
      "== Physical Plan ==\n",
      "AdaptiveSparkPlan isFinalPlan=false\n",
      "+- HashAggregate(keys=[county_code#1021], functions=[avg(cast(interest_rate#1040 as double))])\n",
      "   +- HashAggregate(keys=[county_code#1021], functions=[partial_avg(cast(interest_rate#1040 as double))])\n",
      "      +- FileScan parquet spark_catalog.default.loans[county_code#1021,interest_rate#1040] Batched: true, Bucketed: true, DataFilters: [], Format: Parquet, Location: InMemoryFileIndex(1 paths)[hdfs://nn:9000/user/hive/warehouse/loans], PartitionFilters: [], PushedFilters: [], ReadSchema: struct<county_code:string,interest_rate:string>, SelectedBucketsCount: 8 out of 8\n",
      "\n",
      "\n",
      "== Physical Plan ==\n",
      "AdaptiveSparkPlan isFinalPlan=false\n",
      "+- HashAggregate(keys=[lei#1018], functions=[avg(cast(interest_rate#1040 as double))])\n",
      "   +- Exchange hashpartitioning(lei#1018, 200), ENSURE_REQUIREMENTS, [plan_id=827]\n",
      "      +- HashAggregate(keys=[lei#1018], functions=[partial_avg(cast(interest_rate#1040 as double))])\n",
      "         +- FileScan parquet spark_catalog.default.loans[lei#1018,interest_rate#1040] Batched: true, Bucketed: false (bucket column(s) not read), DataFilters: [], Format: Parquet, Location: InMemoryFileIndex(1 paths)[hdfs://nn:9000/user/hive/warehouse/loans], PartitionFilters: [], PushedFilters: [], ReadSchema: struct<lei:string,interest_rate:string>\n",
      "\n",
      "\n"
     ]
    }
   ],
   "source": [
    "#q8\n",
    "# Group by county_code\n",
    "spark.sql(\"\"\"\n",
    "SELECT county_code, AVG(interest_rate) \n",
    "FROM loans \n",
    "GROUP BY county_code\n",
    "\"\"\").explain()\n",
    "\n",
    "# Group by lei column\n",
    "spark.sql(\"\"\"\n",
    "SELECT lei, AVG(interest_rate) \n",
    "FROM loans \n",
    "GROUP BY lei\n",
    "\"\"\").explain()\n",
    "\n",
    "# There is no need for network I/O  in the first query because all data needed for partial mean is qlready in each bucket.\n",
    "# Also because the data for each county_code is in the same node.\n",
    "\n",
    "# In the second query where we group by lei, network I/O might be necessary due to hashpartitioning\n",
    "# The data is shuffled between nodes based on 'lei' values for the partial mean. so Network I/O occurs because the data \n",
    "# for each lei value may be in different nodes so the data needs to be transferred between nodes to calculate the partial mean."
   ]
  },
  {
   "cell_type": "code",
   "execution_count": 17,
   "id": "06ece175-e6e1-44d1-9fa1-d5df095202c8",
   "metadata": {},
   "outputs": [
    {
     "data": {
      "text/plain": [
       "DataFrame[loan_amount: double, income: double, interest_rate: double, approval: decimal(2,1)]"
      ]
     },
     "execution_count": 17,
     "metadata": {},
     "output_type": "execute_result"
    }
   ],
   "source": [
    "df = spark.sql(\"\"\"\n",
    "    SELECT \n",
    "        CAST(loan_amount AS DOUBLE),\n",
    "        CAST(income AS DOUBLE),\n",
    "        CAST(interest_rate AS DOUBLE),\n",
    "        CASE WHEN action_taken == 1\n",
    "            THEN 1.0 ELSE 0.0 END AS approval\n",
    "    FROM loans\n",
    "\"\"\")\n",
    "df = df.fillna(0.0)\n",
    "\n",
    "# deterministic split\n",
    "train, test = df.randomSplit([0.8, 0.2], seed=41) \n",
    "train.cache()"
   ]
  },
  {
   "cell_type": "code",
   "execution_count": 18,
   "id": "baaa6dc8-91b9-4dc4-b6e7-dec84ccaa9e9",
   "metadata": {},
   "outputs": [
    {
     "name": "stderr",
     "output_type": "stream",
     "text": [
      "                                                                                \r"
     ]
    },
    {
     "data": {
      "text/plain": [
       "242868"
      ]
     },
     "execution_count": 18,
     "metadata": {},
     "output_type": "execute_result"
    }
   ],
   "source": [
    "#q9\n",
    "approved = train.filter(train.approval == 1).count()\n",
    "approved"
   ]
  },
  {
   "cell_type": "code",
   "execution_count": 19,
   "id": "de5be0d6-17d5-4728-9fc3-9a8417bf046f",
   "metadata": {},
   "outputs": [
    {
     "name": "stderr",
     "output_type": "stream",
     "text": [
      "                                                                                \r"
     ]
    }
   ],
   "source": [
    "from pyspark.ml.feature import VectorAssembler\n",
    "from pyspark.ml.classification import DecisionTreeClassifier\n",
    "\n",
    "vector_assembler = VectorAssembler(inputCols=[\"loan_amount\", \"income\", \"interest_rate\"], outputCol=\"features\")\n",
    "\n",
    "train_data = vector_assembler.transform(train)\n",
    "test_data = vector_assembler.transform(test)\n",
    "\n",
    "classifier = DecisionTreeClassifier(maxDepth=5, labelCol=\"approval\", featuresCol=\"features\")\n",
    "model = classifier.fit(train_data)\n",
    "\n",
    "predictions = model.transform(test_data)"
   ]
  },
  {
   "cell_type": "code",
   "execution_count": 20,
   "id": "91f0176e-1819-4dbc-8ef9-1abc5ff03c48",
   "metadata": {},
   "outputs": [
    {
     "name": "stderr",
     "output_type": "stream",
     "text": [
      "                                                                                \r"
     ]
    },
    {
     "data": {
      "text/plain": [
       "0.8940103963757389"
      ]
     },
     "execution_count": 20,
     "metadata": {},
     "output_type": "execute_result"
    }
   ],
   "source": [
    "#q10\n",
    "total_count = predictions.count()\n",
    "correct_count = predictions.filter(predictions.prediction == predictions.approval).count()\n",
    "accuracy = correct_count / total_count\n",
    "accuracy"
   ]
  }
 ],
 "metadata": {
  "kernelspec": {
   "display_name": "Python 3 (ipykernel)",
   "language": "python",
   "name": "python3"
  },
  "language_info": {
   "codemirror_mode": {
    "name": "ipython",
    "version": 3
   },
   "file_extension": ".py",
   "mimetype": "text/x-python",
   "name": "python",
   "nbconvert_exporter": "python",
   "pygments_lexer": "ipython3",
   "version": "3.10.12"
  }
 },
 "nbformat": 4,
 "nbformat_minor": 5
}
