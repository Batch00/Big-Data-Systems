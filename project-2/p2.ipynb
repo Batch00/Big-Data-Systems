{
 "cells": [
  {
   "cell_type": "markdown",
   "id": "636ddae3-a188-4fef-b732-37a4c77e9e53",
   "metadata": {},
   "source": [
    "# Part 1: Setup"
   ]
  },
  {
   "cell_type": "code",
   "execution_count": 1,
   "id": "ad445e1c-ddfb-4b1b-ac49-7724b07b9df5",
   "metadata": {},
   "outputs": [],
   "source": [
    "import torch\n",
    "import pandas as pd\n",
    "import matplotlib.pyplot as plt"
   ]
  },
  {
   "cell_type": "code",
   "execution_count": 2,
   "id": "eacf21d8-da1d-4052-bf17-3325148cbf7d",
   "metadata": {},
   "outputs": [],
   "source": [
    "# create dataframes from the csv\n",
    "train = pd.read_csv(\"train.csv\")\n",
    "test = pd.read_csv(\"test.csv\")\n",
    "\n",
    "# turn values of dataframes into a tensor\n",
    "train_tensor = torch.from_numpy(train.values).to(torch.float64)\n",
    "test_tensor = torch.from_numpy(test.values).to(torch.float64)\n",
    "\n",
    "# Construct the 4 tensors\n",
    "trainX = train_tensor[:, :-1]\n",
    "trainY = train_tensor[:, -1].unsqueeze(1)\n",
    "testX = test_tensor[:, :-1]\n",
    "testY = test_tensor[:, -1].unsqueeze(1)"
   ]
  },
  {
   "cell_type": "code",
   "execution_count": 3,
   "id": "c9cd30d9-8433-42fd-ac77-9ce95fb31436",
   "metadata": {},
   "outputs": [
    {
     "data": {
      "text/plain": [
       "83520"
      ]
     },
     "execution_count": 3,
     "metadata": {},
     "output_type": "execute_result"
    }
   ],
   "source": [
    "#q1: about how many bytes does trainX consume?\n",
    "num_bytes = trainX.nelement() * trainX.element_size()\n",
    "num_bytes"
   ]
  },
  {
   "cell_type": "code",
   "execution_count": 4,
   "id": "18dbdd89-7002-436d-b7f8-e083584af890",
   "metadata": {},
   "outputs": [
    {
     "data": {
      "text/plain": [
       "0.0"
      ]
     },
     "execution_count": 4,
     "metadata": {},
     "output_type": "execute_result"
    }
   ],
   "source": [
    "#q2: what is the biggest difference we would have any one cell if we used float16 instead of fQ2: what is the biggest difference we would have any one cell if we used float16 instead of f\n",
    "\n",
    "# convert to float16 then back to float64\n",
    "to_16 = trainX.to(torch.float16)\n",
    "back_to_64 = trainX.to(torch.float64)\n",
    "# Calculate the absolute difference between the original and adjusted\n",
    "abs_diff = torch.abs(trainX - back_to_64)\n",
    "# Find the biggest absolute difference\n",
    "max_abs_diff = torch.max(abs_diff)\n",
    "# Display the result as a Python float\n",
    "float(max_abs_diff)"
   ]
  },
  {
   "cell_type": "code",
   "execution_count": 5,
   "id": "156c9749-8b8f-4bdb-bc3b-0ba5892b237e",
   "metadata": {},
   "outputs": [
    {
     "data": {
      "text/plain": [
       "False"
      ]
     },
     "execution_count": 5,
     "metadata": {},
     "output_type": "execute_result"
    }
   ],
   "source": [
    "#q3: is a CUDA GPU available on your VM?\n",
    "torch.cuda.is_available()"
   ]
  },
  {
   "cell_type": "markdown",
   "id": "af9539e5-6ff8-45fd-9789-57759a740eb4",
   "metadata": {},
   "source": [
    "# Part 2: Prediction with Hardcoded Model"
   ]
  },
  {
   "cell_type": "code",
   "execution_count": 6,
   "id": "da4f614b-6b7c-49e7-b1d2-3454f29d92b1",
   "metadata": {},
   "outputs": [
    {
     "data": {
      "text/plain": [
       "tensor([[0.0040],\n",
       "        [0.0040],\n",
       "        [0.0040],\n",
       "        [0.0040],\n",
       "        [0.0040],\n",
       "        [0.0040],\n",
       "        [0.0300],\n",
       "        [0.0300],\n",
       "        [0.0300],\n",
       "        [0.0300]], dtype=torch.float64)"
      ]
     },
     "execution_count": 6,
     "metadata": {},
     "output_type": "execute_result"
    }
   ],
   "source": [
    "coef = torch.tensor([\n",
    "        [0.0040],\n",
    "        [0.0040],\n",
    "        [0.0040],\n",
    "        [0.0040],\n",
    "        [0.0040],\n",
    "        [0.0040], # POS_50_59_CP\n",
    "        [0.0300], # POS_60_69_CP\n",
    "        [0.0300],\n",
    "        [0.0300],\n",
    "        [0.0300]\n",
    "], dtype=trainX.dtype)\n",
    "coef"
   ]
  },
  {
   "cell_type": "code",
   "execution_count": 7,
   "id": "078d64ae-5ae2-4113-a903-1c4734f3034e",
   "metadata": {},
   "outputs": [
    {
     "data": {
      "text/plain": [
       "9.844"
      ]
     },
     "execution_count": 7,
     "metadata": {},
     "output_type": "execute_result"
    }
   ],
   "source": [
    "#q4: what is the predicted number of deaths for the first census tract?\n",
    "(testX[0, :] @ coef).item()"
   ]
  },
  {
   "cell_type": "code",
   "execution_count": 8,
   "id": "f1cb2860-a716-461c-8ab9-aafddc9cb4d1",
   "metadata": {},
   "outputs": [
    {
     "data": {
      "text/plain": [
       "12.073632183908048"
      ]
     },
     "execution_count": 8,
     "metadata": {},
     "output_type": "execute_result"
    }
   ],
   "source": [
    "#q5: what is the average number of predicted deaths, over the whole testX dataset?\n",
    "torch.mean(testX @ coef).item()"
   ]
  },
  {
   "cell_type": "markdown",
   "id": "6e2b426e-11cd-4504-80dd-9aa284bb5677",
   "metadata": {},
   "source": [
    "# Part 3: Optimization"
   ]
  },
  {
   "cell_type": "code",
   "execution_count": 9,
   "id": "63739a3f-e22a-4695-9b49-71d4191af410",
   "metadata": {},
   "outputs": [
    {
     "data": {
      "text/plain": [
       "19.0"
      ]
     },
     "execution_count": 9,
     "metadata": {},
     "output_type": "execute_result"
    }
   ],
   "source": [
    "#q6: first, what is y when x is a tensor containing 0.0?\n",
    "x = torch.tensor(0.0, requires_grad = True)\n",
    "def f(x):\n",
    "    return (x**2) - (8*x) + 19\n",
    "float(f(x))"
   ]
  },
  {
   "cell_type": "code",
   "execution_count": 10,
   "id": "863a6060-358f-4940-a7dc-be23f838ed8b",
   "metadata": {},
   "outputs": [
    {
     "data": {
      "text/plain": [
       "3.999999523162842"
      ]
     },
     "execution_count": 10,
     "metadata": {},
     "output_type": "execute_result"
    },
    {
     "data": {
      "image/png": "[encoded data removed]",
      "text/plain": [
       "<Figure size 640x480 with 1 Axes>"
      ]
     },
     "metadata": {},
     "output_type": "display_data"
    }
   ],
   "source": [
    "#q7: what x value minimizes y?\n",
    "\n",
    "# Initialize x with an initial guess\n",
    "x = torch.tensor(0.0, requires_grad=True)\n",
    "# Create an optimizer\n",
    "optimizer = torch.optim.SGD([x], lr=0.1)\n",
    "\n",
    "for epoch in range(100):\n",
    "    # Compute the function value\n",
    "    y = f(x)\n",
    "    plt.plot(x.detach(), y.detach(), \"ro\", markersize=3)   \n",
    "    # Compute gradients and update x\n",
    "    optimizer.zero_grad()\n",
    "    y.backward()\n",
    "    optimizer.step()\n",
    "\n",
    "# The value of x that minimizes y\n",
    "x_minimized = x.item()\n",
    "x_minimized"
   ]
  },
  {
   "cell_type": "markdown",
   "id": "65c719ed-4605-40eb-aeb6-384f0b352084",
   "metadata": {},
   "source": [
    "# Part 4: Linear Regression"
   ]
  },
  {
   "cell_type": "code",
   "execution_count": 11,
   "id": "1c71c76a-27a6-4a02-b926-6e6406790630",
   "metadata": {},
   "outputs": [
    {
     "data": {
      "text/plain": [
       "197.8007662835249"
      ]
     },
     "execution_count": 11,
     "metadata": {},
     "output_type": "execute_result"
    }
   ],
   "source": [
    "#q8: what is the MSE (mean-square error) when we make predictions using this vector of zero coefficients?\n",
    "coef = torch.zeros((trainX.shape[1], 1),  dtype=torch.float64)\n",
    "predict = trainX @ coef\n",
    "\n",
    "# Calculate the Mean Squared Error (MSE)\n",
    "mse = torch.mean((predict - trainY) ** 2)\n",
    "float(mse)"
   ]
  },
  {
   "cell_type": "code",
   "execution_count": 12,
   "id": "f638ba3c-32bb-4ee4-9ba5-f34374afe9fc",
   "metadata": {},
   "outputs": [],
   "source": [
    "torch.manual_seed(544)\n",
    "ds = torch.utils.data.TensorDataset(trainX, trainY)\n",
    "dl = torch.utils.data.DataLoader(ds, batch_size=50, shuffle=True)\n",
    "\n",
    "# coefficients with zeros \n",
    "coef = torch.zeros((trainX.shape[1], 1), dtype=torch.float64, requires_grad=True)\n",
    "\n",
    "# Define the loss function (MSE) and optimizer (SGD)\n",
    "loss_function = torch.nn.MSELoss()\n",
    "optimizer = torch.optim.SGD([coef], lr=0.000002)\n",
    "\n",
    "# Training loop\n",
    "num_epochs = 500\n",
    "for epoch in range(num_epochs):\n",
    "    for inputs, targets in dl:\n",
    "        # Forward pass\n",
    "        predictions = inputs @ coef\n",
    "        loss = loss_function(predictions, targets.view(-1, 1))\n",
    "        \n",
    "        # Backward pass and optimization\n",
    "        optimizer.zero_grad()\n",
    "        loss.backward()\n",
    "        optimizer.step()"
   ]
  },
  {
   "cell_type": "code",
   "execution_count": 13,
   "id": "3adc2ec0-6ae4-4680-82e0-ebf75d59c2d7",
   "metadata": {},
   "outputs": [
    {
     "data": {
      "text/plain": [
       "26.8113940147193"
      ]
     },
     "execution_count": 13,
     "metadata": {},
     "output_type": "execute_result"
    }
   ],
   "source": [
    "#q9: what is the MSE over the training data, using the coefficients resulting from the above training?\n",
    "predictions = trainX @ coef\n",
    "mse_training = loss_function(predictions, trainY.view(-1, 1)).item()\n",
    "mse_training"
   ]
  },
  {
   "cell_type": "code",
   "execution_count": 14,
   "id": "8086bfce-3f51-4b75-a5f5-0d5f420e95e9",
   "metadata": {},
   "outputs": [
    {
     "data": {
      "text/plain": [
       "29.05854692548551"
      ]
     },
     "execution_count": 14,
     "metadata": {},
     "output_type": "execute_result"
    }
   ],
   "source": [
    "#q10: what is the MSE over the test data?\n",
    "predictions = testX @ coef\n",
    "mse_training = loss_function(predictions, testY.view(-1, 1)).item()\n",
    "mse_training"
   ]
  }
 ],
 "metadata": {
  "kernelspec": {
   "display_name": "Python 3 (ipykernel)",
   "language": "python",
   "name": "python3"
  },
  "language_info": {
   "codemirror_mode": {
    "name": "ipython",
    "version": 3
   },
   "file_extension": ".py",
   "mimetype": "text/x-python",
   "name": "python",
   "nbconvert_exporter": "python",
   "pygments_lexer": "ipython3",
   "version": "3.11.5"
  }
 },
 "nbformat": 4,
 "nbformat_minor": 5
}
