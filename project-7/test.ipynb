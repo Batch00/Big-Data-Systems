{
 "cells": [
  {
   "cell_type": "code",
   "execution_count": 8,
   "metadata": {},
   "outputs": [
    {
     "name": "stdout",
     "output_type": "stream",
     "text": [
      "1990-01-01 32.497\n",
      "b'January'\n",
      "1990-01-02 34.1072\n",
      "b'January'\n",
      "1990-01-03 44.1683\n",
      "b'January'\n",
      "1990-01-04 33.3371\n",
      "b'January'\n",
      "1990-01-05 36.0099\n",
      "b'January'\n",
      "1990-01-05 1000000\n",
      "b'January'\n",
      "1990-01-06 21.2971\n",
      "b'January'\n",
      "1990-01-07 33.9504\n",
      "b'January'\n",
      "1990-01-08 42.7228\n",
      "b'January'\n",
      "1990-01-09 36.4099\n",
      "b'January'\n",
      "1990-01-10 41.8896\n",
      "b'January'\n",
      "1990-01-11 42.8564\n",
      "b'January'\n",
      "1990-01-12 23.2518\n",
      "b'January'\n",
      "1990-01-13 28.7493\n",
      "b'January'\n",
      "1990-01-14 40.3651\n",
      "b'January'\n",
      "1990-01-15 53.2052\n",
      "b'January'\n",
      "1990-01-16 47.4066\n",
      "b'January'\n",
      "1990-01-17 51.7592\n",
      "b'January'\n",
      "1990-01-18 37.9651\n",
      "b'January'\n",
      "1990-01-19 32.7386\n",
      "b'January'\n",
      "1990-01-20 33.4544\n",
      "b'January'\n",
      "1990-01-21 29.9549\n",
      "b'January'\n",
      "1990-01-22 37.1841\n",
      "b'January'\n",
      "1990-01-23 39.3156\n",
      "b'January'\n",
      "1990-01-24 38.2763\n",
      "b'January'\n",
      "1990-01-25 25.7583\n",
      "b'January'\n",
      "1990-01-26 34.8584\n",
      "b'January'\n",
      "1990-01-27 40.3317\n",
      "b'January'\n",
      "1990-01-28 36.2526\n",
      "b'January'\n"
     ]
    },
    {
     "ename": "KeyboardInterrupt",
     "evalue": "",
     "output_type": "error",
     "traceback": [
      "\u001b[0;31m---------------------------------------------------------------------------\u001b[0m",
      "\u001b[0;31mKeyboardInterrupt\u001b[0m                         Traceback (most recent call last)",
      "\u001b[1;32m/home/carso/project-7-batch07/test.ipynb Cell 1\u001b[0m line \u001b[0;36m6\n\u001b[1;32m      <a href='vscode-notebook-cell://ssh-remote%2B34.171.97.98/home/carso/project-7-batch07/test.ipynb#W0sdnNjb2RlLXJlbW90ZQ%3D%3D?line=2'>3</a>\u001b[0m \u001b[39mfrom\u001b[39;00m \u001b[39mdatetime\u001b[39;00m \u001b[39mimport\u001b[39;00m datetime\n\u001b[1;32m      <a href='vscode-notebook-cell://ssh-remote%2B34.171.97.98/home/carso/project-7-batch07/test.ipynb#W0sdnNjb2RlLXJlbW90ZQ%3D%3D?line=4'>5</a>\u001b[0m \u001b[39m# Runs infinitely because the weather never ends\u001b[39;00m\n\u001b[0;32m----> <a href='vscode-notebook-cell://ssh-remote%2B34.171.97.98/home/carso/project-7-batch07/test.ipynb#W0sdnNjb2RlLXJlbW90ZQ%3D%3D?line=5'>6</a>\u001b[0m \u001b[39mfor\u001b[39;00m date, degrees \u001b[39min\u001b[39;00m weather\u001b[39m.\u001b[39mget_next_weather(delay_sec\u001b[39m=\u001b[39m\u001b[39m0.1\u001b[39m):\n\u001b[1;32m      <a href='vscode-notebook-cell://ssh-remote%2B34.171.97.98/home/carso/project-7-batch07/test.ipynb#W0sdnNjb2RlLXJlbW90ZQ%3D%3D?line=6'>7</a>\u001b[0m     date_obj \u001b[39m=\u001b[39m datetime\u001b[39m.\u001b[39mstrptime(date, \u001b[39m'\u001b[39m\u001b[39m%\u001b[39m\u001b[39mY-\u001b[39m\u001b[39m%\u001b[39m\u001b[39mm-\u001b[39m\u001b[39m%d\u001b[39;00m\u001b[39m'\u001b[39m)\u001b[39m.\u001b[39mstrftime(\u001b[39m'\u001b[39m\u001b[39m%\u001b[39m\u001b[39mB\u001b[39m\u001b[39m'\u001b[39m)\u001b[39m.\u001b[39mencode(\u001b[39m'\u001b[39m\u001b[39mutf-8\u001b[39m\u001b[39m'\u001b[39m)\n\u001b[1;32m      <a href='vscode-notebook-cell://ssh-remote%2B34.171.97.98/home/carso/project-7-batch07/test.ipynb#W0sdnNjb2RlLXJlbW90ZQ%3D%3D?line=7'>8</a>\u001b[0m     \u001b[39mprint\u001b[39m(date, degrees) \u001b[39m# date, max_temperature\u001b[39;00m\n",
      "File \u001b[0;32m~/project-7-batch07/weather.py:44\u001b[0m, in \u001b[0;36mget_next_weather\u001b[0;34m(delay_sec)\u001b[0m\n\u001b[1;32m     42\u001b[0m \u001b[39mwhile\u001b[39;00m \u001b[39mTrue\u001b[39;00m:\n\u001b[1;32m     43\u001b[0m     \u001b[39myield\u001b[39;00m \u001b[39mnext\u001b[39m(weather_generator)\n\u001b[0;32m---> 44\u001b[0m     time\u001b[39m.\u001b[39;49msleep(delay_sec)\n",
      "\u001b[0;31mKeyboardInterrupt\u001b[0m: "
     ]
    }
   ],
   "source": [
    "import weather\n",
    "import time\n",
    "from datetime import datetime\n",
    "\n",
    "# Runs infinitely because the weather never ends\n",
    "for date, degrees in weather.get_next_weather(delay_sec=0.1):\n",
    "    date_obj = datetime.strptime(date, '%Y-%m-%d').strftime('%B').encode('utf-8')\n",
    "    print(date, degrees) # date, max_temperature\n",
    "    print(date_obj)\n",
    "    #print(date.strftime('%B').encode('utf-8'))\n"
   ]
  },
  {
   "cell_type": "code",
   "execution_count": 2,
   "metadata": {},
   "outputs": [
    {
     "ename": "SyntaxError",
     "evalue": "invalid syntax (simple.py, line 54)",
     "output_type": "error",
     "traceback": [
      "\u001b[0;36m  File \u001b[0;32m~/.local/lib/python3.10/site-packages/kafka/producer/simple.py:54\u001b[0;36m\u001b[0m\n\u001b[0;31m    return '<SimpleProducer batch=%s>' % self.async\u001b[0m\n\u001b[0m                                              ^\u001b[0m\n\u001b[0;31mSyntaxError\u001b[0m\u001b[0;31m:\u001b[0m invalid syntax\n"
     ]
    }
   ],
   "source": [
    "%run files/debug.py"
   ]
  }
 ],
 "metadata": {
  "kernelspec": {
   "display_name": "Python 3",
   "language": "python",
   "name": "python3"
  },
  "language_info": {
   "codemirror_mode": {
    "name": "ipython",
    "version": 3
   },
   "file_extension": ".py",
   "mimetype": "text/x-python",
   "name": "python",
   "nbconvert_exporter": "python",
   "pygments_lexer": "ipython3",
   "version": "3.10.12"
  }
 },
 "nbformat": 4,
 "nbformat_minor": 2
}
