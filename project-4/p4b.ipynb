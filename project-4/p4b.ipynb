{
 "cells": [
  {
   "cell_type": "code",
   "execution_count": 1,
   "id": "3f3d29c6-d5fa-4a24-8db5-b6cecaeeaa0c",
   "metadata": {},
   "outputs": [],
   "source": [
    "import time\n",
    "import requests\n",
    "import pyarrow as pa\n",
    "import pyarrow.fs\n",
    "import io"
   ]
  },
  {
   "cell_type": "code",
   "execution_count": 2,
   "id": "9635ce17-066b-4282-8910-38833f6376b4",
   "metadata": {},
   "outputs": [
    {
     "name": "stdout",
     "output_type": "stream",
     "text": [
      "Configured Capacity: 25821052928 (24.05 GB)\n",
      "Present Capacity: 16962740224 (15.80 GB)\n",
      "DFS Remaining: 16696569856 (15.55 GB)\n",
      "DFS Used: 266170368 (253.84 MB)\n",
      "DFS Used%: 1.57%\n",
      "Replicated Blocks:\n",
      "\tUnder replicated blocks: 167\n",
      "\tBlocks with corrupt replicas: 0\n",
      "\tMissing blocks: 83\n",
      "\tMissing blocks (with replication factor 1): 83\n",
      "\tLow redundancy blocks with highest priority to recover: 167\n",
      "\tPending deletion blocks: 0\n",
      "Erasure Coded Block Groups: \n",
      "\tLow redundancy block groups: 0\n",
      "\tBlock groups with corrupt internal blocks: 0\n",
      "\tMissing block groups: 0\n",
      "\tLow redundancy blocks with highest priority to recover: 0\n",
      "\tPending deletion blocks: 0\n",
      "\n",
      "-------------------------------------------------\n",
      "Live datanodes (1):\n",
      "\n",
      "Name: 172.21.0.5:9866 (project-4-batch04-dn-1.project-4-batch04_default)\n",
      "Hostname: 27b3cf235b47\n",
      "Decommission Status : Normal\n",
      "Configured Capacity: 25821052928 (24.05 GB)\n",
      "DFS Used: 266170368 (253.84 MB)\n",
      "Non DFS Used: 8841535488 (8.23 GB)\n",
      "DFS Remaining: 16696569856 (15.55 GB)\n",
      "DFS Used%: 1.03%\n",
      "DFS Remaining%: 64.66%\n",
      "Configured Cache Capacity: 0 (0 B)\n",
      "Cache Used: 0 (0 B)\n",
      "Cache Remaining: 0 (0 B)\n",
      "Cache Used%: 100.00%\n",
      "Cache Remaining%: 0.00%\n",
      "Xceivers: 0\n",
      "Last contact: Tue Oct 24 21:34:05 GMT 2023\n",
      "Last Block Report: Tue Oct 24 21:20:26 GMT 2023\n",
      "Num of Blocks: 251\n",
      "\n",
      "\n",
      "Dead datanodes (1):\n",
      "\n",
      "Name: 172.21.0.2:9866 (172.21.0.2)\n",
      "Hostname: ef4bb62941c6\n",
      "Decommission Status : Normal\n",
      "Configured Capacity: 25821052928 (24.05 GB)\n",
      "DFS Used: 263879516 (251.66 MB)\n",
      "Non DFS Used: 8843736228 (8.24 GB)\n",
      "DFS Remaining: 16696659968 (15.55 GB)\n",
      "DFS Used%: 1.02%\n",
      "DFS Remaining%: 64.66%\n",
      "Configured Cache Capacity: 0 (0 B)\n",
      "Cache Used: 0 (0 B)\n",
      "Cache Remaining: 0 (0 B)\n",
      "Cache Used%: 100.00%\n",
      "Cache Remaining%: 0.00%\n",
      "Xceivers: 0\n",
      "Last contact: Tue Oct 24 21:21:44 GMT 2023\n",
      "Last Block Report: Tue Oct 24 21:20:26 GMT 2023\n",
      "Num of Blocks: 0\n",
      "\n",
      "\n"
     ]
    }
   ],
   "source": [
    "#q8\n",
    "!hdfs dfsadmin -fs hdfs://boss:9000 -report"
   ]
  },
  {
   "cell_type": "code",
   "execution_count": 3,
   "id": "c1278ff7-62d7-496e-a8ed-6a792115387d",
   "metadata": {},
   "outputs": [],
   "source": [
    "time.sleep(30)"
   ]
  },
  {
   "cell_type": "code",
   "execution_count": 4,
   "id": "45476a88-e4a0-417d-b034-8a7b9b0a358f",
   "metadata": {},
   "outputs": [
    {
     "data": {
      "text/plain": [
       "{'27b3cf235b47': 84, 'lost': 83}"
      ]
     },
     "execution_count": 4,
     "metadata": {},
     "output_type": "execute_result"
    }
   ],
   "source": [
    "#q9\n",
    "r = requests.get(\"http://boss:9870/webhdfs/v1/single.csv?op=GETFILESTATUS\")\n",
    "r.raise_for_status()\n",
    "single_status = r.json()\n",
    "\n",
    "offset = 0\n",
    "length = single_status['FileStatus']['length']\n",
    "blockSize = single_status['FileStatus']['blockSize']\n",
    "\n",
    "blockDict = {}\n",
    "\n",
    "while offset < length:\n",
    "    r = requests.get(f\"http://boss:9870/webhdfs/v1/single.csv?op=OPEN&offset={offset}&noredirect=true\")\n",
    "    if r.status_code == 403:\n",
    "        if \"lost\" in blockDict:\n",
    "            blockDict[\"lost\"] += 1\n",
    "        else:\n",
    "            blockDict[\"lost\"] = 1\n",
    "    else:\n",
    "        id = r.json().get(\"Location\").split(\":\")[1][2:]\n",
    "        if id in blockDict:\n",
    "            blockDict[id] += 1\n",
    "        else:\n",
    "            blockDict[id] = 1\n",
    "    offset += blockSize\n",
    "    \n",
    "blockDict"
   ]
  },
  {
   "cell_type": "code",
   "execution_count": 12,
   "id": "a2b85e07-e90d-49c4-b7e5-ff6c56c16fd0",
   "metadata": {},
   "outputs": [
    {
     "name": "stderr",
     "output_type": "stream",
     "text": [
      "FSDataInputStream#close error:\n",
      "IOException: Filesystem closedjava.io.IOException: Filesystem closed\n",
      "\tat org.apache.hadoop.hdfs.DFSClient.checkOpen(DFSClient.java:494)\n",
      "\tat org.apache.hadoop.hdfs.DFSInputStream.close(DFSInputStream.java:728)\n",
      "\tat java.base/java.io.FilterInputStream.close(FilterInputStream.java:180)\n",
      "/arrow/cpp/src/arrow/status.cc:155: Failed to close HdfsReadableFile: IOError: HDFS CloseFile failed. Detail: [errno 255] Unknown error 255\n"
     ]
    },
    {
     "data": {
      "text/plain": [
       "223993"
      ]
     },
     "execution_count": 12,
     "metadata": {},
     "output_type": "execute_result"
    }
   ],
   "source": [
    "#q10\n",
    "offset = 0\n",
    "count = 0\n",
    "hdfs = pa.fs.HadoopFileSystem(\"boss\", 9000)\n",
    "f = hdfs.open_input_file(\"/single.csv\")\n",
    "\n",
    "while offset < length:\n",
    "    r = requests.get(f\"http://boss:9870/webhdfs/v1/single.csv?op=OPEN&offset={offset}&noredirect=true\")\n",
    "    if r.status_code == 403:\n",
    "        pass\n",
    "    else:\n",
    "        text = f.read_at(blockSize, offset).decode('utf-8')\n",
    "        num_fam = text.count(\"Single Family\")\n",
    "        count += num_fam\n",
    "        \n",
    "    offset += blockSize\n",
    "    \n",
    "count"
   ]
  }
 ],
 "metadata": {
  "kernelspec": {
   "display_name": "Python 3 (ipykernel)",
   "language": "python",
   "name": "python3"
  },
  "language_info": {
   "codemirror_mode": {
    "name": "ipython",
    "version": 3
   },
   "file_extension": ".py",
   "mimetype": "text/x-python",
   "name": "python",
   "nbconvert_exporter": "python",
   "pygments_lexer": "ipython3",
   "version": "3.10.12"
  }
 },
 "nbformat": 4,
 "nbformat_minor": 5
}
