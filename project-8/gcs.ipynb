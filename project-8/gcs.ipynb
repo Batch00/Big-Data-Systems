{
 "cells": [
  {
   "cell_type": "code",
   "execution_count": 2,
   "metadata": {},
   "outputs": [],
   "source": [
    "from google.cloud import bigquery\n",
    "bq = bigquery.Client()"
   ]
  },
  {
   "cell_type": "code",
   "execution_count": 14,
   "metadata": {},
   "outputs": [
    {
     "data": {
      "text/plain": [
       "Table(TableReference(DatasetReference('local-storm-398318', 'p8'), 'loans'))"
      ]
     },
     "execution_count": 14,
     "metadata": {},
     "output_type": "execute_result"
    }
   ],
   "source": [
    "config = bigquery.ExternalConfig(source_format=\"PARQUET\")\n",
    "config.source_uris = [\"gs://cs544-p8/hdma-wi-2021.parquet\"]\n",
    "# config.autodetect = True\n",
    "table = bigquery.Table(\"local-storm-398318.p8.loans\")\n",
    "table.external_data_configuration = config\n",
    "bq.create_table(table, exists_ok=True)"
   ]
  },
  {
   "cell_type": "code",
   "execution_count": 5,
   "metadata": {},
   "outputs": [],
   "source": [
    "dataset = bigquery.Dataset(\"local-storm-398318.test\")\n",
    "dataset.location = \"US\"\n",
    "dataset = bq.create_dataset(dataset, exists_ok=True)"
   ]
  }
 ],
 "metadata": {
  "kernelspec": {
   "display_name": "Python 3",
   "language": "python",
   "name": "python3"
  },
  "language_info": {
   "codemirror_mode": {
    "name": "ipython",
    "version": 3
   },
   "file_extension": ".py",
   "mimetype": "text/x-python",
   "name": "python",
   "nbconvert_exporter": "python",
   "pygments_lexer": "ipython3",
   "version": "3.10.12"
  }
 },
 "nbformat": 4,
 "nbformat_minor": 2
}
