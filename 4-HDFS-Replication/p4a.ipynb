{
 "cells": [
  {
   "cell_type": "code",
   "execution_count": 1,
   "id": "66a6bc6e-e6b2-483f-9f44-1f2f58dc4f2d",
   "metadata": {},
   "outputs": [],
   "source": [
    "import pyarrow as pa\n",
    "import pyarrow.fs\n",
    "import requests\n",
    "import io\n",
    "import os"
   ]
  },
  {
   "cell_type": "code",
   "execution_count": 2,
   "id": "7550e55a-597a-47b4-bd8f-dc2ef74992af",
   "metadata": {},
   "outputs": [
    {
     "name": "stdout",
     "output_type": "stream",
     "text": [
      "Configured Capacity: 51642105856 (48.10 GB)\n",
      "Present Capacity: 34283392124 (31.93 GB)\n",
      "DFS Remaining: 33754406912 (31.44 GB)\n",
      "DFS Used: 528985212 (504.48 MB)\n",
      "DFS Used%: 1.54%\n",
      "Replicated Blocks:\n",
      "\tUnder replicated blocks: 0\n",
      "\tBlocks with corrupt replicas: 0\n",
      "\tMissing blocks: 0\n",
      "\tMissing blocks (with replication factor 1): 0\n",
      "\tLow redundancy blocks with highest priority to recover: 0\n",
      "\tPending deletion blocks: 0\n",
      "Erasure Coded Block Groups: \n",
      "\tLow redundancy block groups: 0\n",
      "\tBlock groups with corrupt internal blocks: 0\n",
      "\tMissing block groups: 0\n",
      "\tLow redundancy blocks with highest priority to recover: 0\n",
      "\tPending deletion blocks: 0\n",
      "\n",
      "-------------------------------------------------\n",
      "Live datanodes (2):\n",
      "\n",
      "Name: 172.18.0.4:9866 (project-4-batch04-dn-2.project-4-batch04_default)\n",
      "Hostname: 4238186f1c34\n",
      "Decommission Status : Normal\n",
      "Configured Capacity: 25821052928 (24.05 GB)\n",
      "DFS Used: 272503121 (259.88 MB)\n",
      "Non DFS Used: 8654569135 (8.06 GB)\n",
      "DFS Remaining: 16877203456 (15.72 GB)\n",
      "DFS Used%: 1.06%\n",
      "DFS Remaining%: 65.36%\n",
      "Configured Cache Capacity: 0 (0 B)\n",
      "Cache Used: 0 (0 B)\n",
      "Cache Remaining: 0 (0 B)\n",
      "Cache Used%: 100.00%\n",
      "Cache Remaining%: 0.00%\n",
      "Xceivers: 0\n",
      "Last contact: Mon Oct 23 20:54:02 GMT 2023\n",
      "Last Block Report: Mon Oct 23 20:51:11 GMT 2023\n",
      "Num of Blocks: 258\n",
      "\n",
      "\n",
      "Name: 172.18.0.5:9866 (project-4-batch04-dn-1.project-4-batch04_default)\n",
      "Hostname: 332f988c4bb3\n",
      "Decommission Status : Normal\n",
      "Configured Capacity: 25821052928 (24.05 GB)\n",
      "DFS Used: 256482091 (244.60 MB)\n",
      "Non DFS Used: 8670590165 (8.08 GB)\n",
      "DFS Remaining: 16877203456 (15.72 GB)\n",
      "DFS Used%: 0.99%\n",
      "DFS Remaining%: 65.36%\n",
      "Configured Cache Capacity: 0 (0 B)\n",
      "Cache Used: 0 (0 B)\n",
      "Cache Remaining: 0 (0 B)\n",
      "Cache Used%: 100.00%\n",
      "Cache Remaining%: 0.00%\n",
      "Xceivers: 0\n",
      "Last contact: Mon Oct 23 20:54:02 GMT 2023\n",
      "Last Block Report: Mon Oct 23 20:51:11 GMT 2023\n",
      "Num of Blocks: 243\n",
      "\n",
      "\n"
     ]
    }
   ],
   "source": [
    "#q1\n",
    "!hdfs dfsadmin -fs hdfs://boss:9000 -report"
   ]
  },
  {
   "cell_type": "code",
   "execution_count": 3,
   "id": "16276d4e-7343-48a9-bd7e-d7d3180343d6",
   "metadata": {},
   "outputs": [
    {
     "name": "stdout",
     "output_type": "stream",
     "text": [
      "Deleted hdfs://boss:9000/single.csv\n"
     ]
    }
   ],
   "source": [
    "if not os.path.exists(\"hdma-wi-2021.csv\"):\n",
    "    !wget \"https://pages.cs.wisc.edu/~harter/cs544/data/hdma-wi-2021.csv\"\n",
    "    \n",
    "!hdfs dfs -rm -f hdfs://boss:9000/single.csv\n",
    "!hdfs dfs -rm -f hdfs://boss:9000/double.csv\n",
    "!hdfs dfs -D dfs.block.size=1048576 -D dfs.replication=1 -cp hdma-wi-2021.csv hdfs://boss:9000/single.csv\n",
    "!hdfs dfs -D dfs.block.size=1048576 -D dfs.replication=2 -cp hdma-wi-2021.csv hdfs://boss:9000/double.csv"
   ]
  },
  {
   "cell_type": "code",
   "execution_count": 4,
   "id": "bcf813a7-bd0a-4e2f-989c-bf9c48672988",
   "metadata": {},
   "outputs": [
    {
     "name": "stdout",
     "output_type": "stream",
     "text": [
      "166.8 M  333.7 M  hdfs://boss:9000/double.csv\n",
      "166.8 M  166.8 M  hdfs://boss:9000/single.csv\n"
     ]
    }
   ],
   "source": [
    "#q2\n",
    "!hdfs dfs -du -h hdfs://boss:9000/double.csv\n",
    "!hdfs dfs -du -h hdfs://boss:9000/single.csv"
   ]
  },
  {
   "cell_type": "code",
   "execution_count": 5,
   "id": "eafeefb6-5360-4726-a1fe-03650a185599",
   "metadata": {},
   "outputs": [
    {
     "data": {
      "text/plain": [
       "{'FileStatus': {'accessTime': 1698094454438,\n",
       "  'blockSize': 1048576,\n",
       "  'childrenNum': 0,\n",
       "  'fileId': 16388,\n",
       "  'group': 'supergroup',\n",
       "  'length': 174944099,\n",
       "  'modificationTime': 1698094458897,\n",
       "  'owner': 'root',\n",
       "  'pathSuffix': '',\n",
       "  'permission': '644',\n",
       "  'replication': 1,\n",
       "  'storagePolicy': 0,\n",
       "  'type': 'FILE'}}"
      ]
     },
     "execution_count": 5,
     "metadata": {},
     "output_type": "execute_result"
    }
   ],
   "source": [
    "#q3\n",
    "r = requests.get(\"http://boss:9870/webhdfs/v1/single.csv?op=GETFILESTATUS\")\n",
    "r.raise_for_status()\n",
    "single_status = r.json()\n",
    "single_status"
   ]
  },
  {
   "cell_type": "code",
   "execution_count": 6,
   "id": "c5bd30a7-66e5-417f-a6f0-b68cc9352e16",
   "metadata": {},
   "outputs": [
    {
     "data": {
      "text/plain": [
       "{'Location': 'http://332f988c4bb3:9864/webhdfs/v1/single.csv?op=OPEN&namenoderpcaddress=boss:9000&offset=0'}"
      ]
     },
     "execution_count": 6,
     "metadata": {},
     "output_type": "execute_result"
    }
   ],
   "source": [
    "#q4\n",
    "r = requests.get(\"http://boss:9870/webhdfs/v1/single.csv?op=OPEN&offset=0&noredirect=true\")\n",
    "r.raise_for_status()\n",
    "r.json()"
   ]
  },
  {
   "cell_type": "code",
   "execution_count": 7,
   "id": "d88222ba-81e5-47a0-8f50-bd383ab92b4b",
   "metadata": {},
   "outputs": [
    {
     "data": {
      "text/plain": [
       "{'332f988c4bb3': 92, '4238186f1c34': 75}"
      ]
     },
     "execution_count": 7,
     "metadata": {},
     "output_type": "execute_result"
    }
   ],
   "source": [
    "#q5\n",
    "offset = 0\n",
    "length = single_status['FileStatus']['length']\n",
    "blockSize = single_status['FileStatus']['blockSize']\n",
    "\n",
    "blockDict = {}\n",
    "\n",
    "while offset < length:\n",
    "    r = requests.get(f\"http://boss:9870/webhdfs/v1/single.csv?op=OPEN&offset={offset}&noredirect=true\")\n",
    "    r.raise_for_status()\n",
    "    id = r.json().get(\"Location\").split(\":\")[1][2:]\n",
    "    if id in blockDict:\n",
    "        blockDict[id] += 1\n",
    "    else:\n",
    "        blockDict[id] = 1\n",
    "    offset += blockSize\n",
    "    \n",
    "blockDict"
   ]
  },
  {
   "cell_type": "code",
   "execution_count": 8,
   "id": "5a511d3f-509e-442a-8cec-75b42c8ee131",
   "metadata": {},
   "outputs": [
    {
     "name": "stderr",
     "output_type": "stream",
     "text": [
      "2023-10-23 20:54:43,166 WARN util.NativeCodeLoader: Unable to load native-hadoop library for your platform... using builtin-java classes where applicable\n"
     ]
    },
    {
     "data": {
      "text/plain": [
       "b'activity_y'"
      ]
     },
     "execution_count": 8,
     "metadata": {},
     "output_type": "execute_result"
    }
   ],
   "source": [
    "#q6\n",
    "hdfs = pa.fs.HadoopFileSystem(\"boss\", 9000)\n",
    "f = hdfs.open_input_file(\"/single.csv\")\n",
    "f.read_at(10,0)"
   ]
  },
  {
   "cell_type": "code",
   "execution_count": 9,
   "id": "0497d930-f172-4fd8-adfc-0c63666ad8d6",
   "metadata": {},
   "outputs": [
    {
     "data": {
      "text/plain": [
       "444874"
      ]
     },
     "execution_count": 9,
     "metadata": {},
     "output_type": "execute_result"
    }
   ],
   "source": [
    "#q7\n",
    "count = 0\n",
    "with hdfs.open_input_file(\"/single.csv\") as f:\n",
    "    reader = io.TextIOWrapper(io.BufferedReader(f))\n",
    "    for i, line in enumerate(reader):\n",
    "        if \"Single Family\" in line:\n",
    "            count += 1\n",
    "count"
   ]
  },
  {
   "cell_type": "code",
   "execution_count": null,
   "id": "53fc7314-4957-4a7c-b14a-ba32a454e7fb",
   "metadata": {},
   "outputs": [],
   "source": []
  }
 ],
 "metadata": {
  "kernelspec": {
   "display_name": "Python 3 (ipykernel)",
   "language": "python",
   "name": "python3"
  },
  "language_info": {
   "codemirror_mode": {
    "name": "ipython",
    "version": 3
   },
   "file_extension": ".py",
   "mimetype": "text/x-python",
   "name": "python",
   "nbconvert_exporter": "python",
   "pygments_lexer": "ipython3",
   "version": "3.10.12"
  }
 },
 "nbformat": 4,
 "nbformat_minor": 5
}
