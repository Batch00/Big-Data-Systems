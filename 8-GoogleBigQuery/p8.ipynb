{
 "cells": [
  {
   "cell_type": "code",
   "execution_count": 1,
   "metadata": {},
   "outputs": [],
   "source": [
    "from google.cloud import bigquery\n",
    "bq = bigquery.Client()"
   ]
  },
  {
   "cell_type": "code",
   "execution_count": 2,
   "metadata": {},
   "outputs": [
    {
     "data": {
      "text/html": [
       "<div>\n",
       "<style scoped>\n",
       "    .dataframe tbody tr th:only-of-type {\n",
       "        vertical-align: middle;\n",
       "    }\n",
       "\n",
       "    .dataframe tbody tr th {\n",
       "        vertical-align: top;\n",
       "    }\n",
       "\n",
       "    .dataframe thead th {\n",
       "        text-align: right;\n",
       "    }\n",
       "</style>\n",
       "<table border=\"1\" class=\"dataframe\">\n",
       "  <thead>\n",
       "    <tr style=\"text-align: right;\">\n",
       "      <th></th>\n",
       "      <th>num_rows</th>\n",
       "    </tr>\n",
       "  </thead>\n",
       "  <tbody>\n",
       "    <tr>\n",
       "      <th>0</th>\n",
       "      <td>3233</td>\n",
       "    </tr>\n",
       "  </tbody>\n",
       "</table>\n",
       "</div>"
      ],
      "text/plain": [
       "   num_rows\n",
       "0      3233"
      ]
     },
     "execution_count": 2,
     "metadata": {},
     "output_type": "execute_result"
    }
   ],
   "source": [
    "q = bq.query(\n",
    "\"\"\"\n",
    "select count(*) as num_rows \n",
    "from bigquery-public-data.geo_us_boundaries.counties\n",
    "\"\"\")\n",
    "q.to_dataframe()"
   ]
  },
  {
   "cell_type": "code",
   "execution_count": 3,
   "metadata": {},
   "outputs": [],
   "source": [
    "no_cache = bigquery.QueryJobConfig(use_query_cache=False)"
   ]
  },
  {
   "cell_type": "code",
   "execution_count": 4,
   "metadata": {},
   "outputs": [
    {
     "data": {
      "text/plain": [
       "'55025'"
      ]
     },
     "execution_count": 4,
     "metadata": {},
     "output_type": "execute_result"
    }
   ],
   "source": [
    "#q1\n",
    "q1 = bq.query(\"\"\"\n",
    "SELECT geo_id\n",
    "FROM bigquery-public-data.geo_us_boundaries.counties\n",
    "WHERE county_name = 'Dane'\n",
    "\"\"\", job_config=no_cache)\n",
    "\n",
    "q1.to_dataframe()[\"geo_id\"][0]"
   ]
  },
  {
   "cell_type": "code",
   "execution_count": 5,
   "metadata": {},
   "outputs": [
    {
     "data": {
      "text/plain": [
       "{'48': 254, '13': 159, '51': 133, '21': 120, '29': 115}"
      ]
     },
     "execution_count": 5,
     "metadata": {},
     "output_type": "execute_result"
    }
   ],
   "source": [
    "#q2\n",
    "q2 = bq.query(\"\"\"\n",
    "SELECT state_fips_code, COUNT(*) AS num_counties\n",
    "FROM bigquery-public-data.geo_us_boundaries.counties\n",
    "GROUP BY state_fips_code\n",
    "ORDER BY num_counties DESC\n",
    "LIMIT 5\n",
    "\"\"\", job_config=no_cache)\n",
    "\n",
    "q2.to_dataframe().set_index('state_fips_code')['num_counties'].to_dict()"
   ]
  },
  {
   "cell_type": "code",
   "execution_count": 6,
   "metadata": {},
   "outputs": [
    {
     "data": {
      "text/plain": [
       "{'q1': 5.9604644775390625e-05, 'q2': 5.9604644775390625e-05}"
      ]
     },
     "execution_count": 6,
     "metadata": {},
     "output_type": "execute_result"
    }
   ],
   "source": [
    "#q3\n",
    "iowa_cost = 6.25\n",
    "\n",
    "cost_q1 = q1.total_bytes_billed / (1024**4) * iowa_cost\n",
    "cost_q2 = q2.total_bytes_billed / (1024**4) * iowa_cost\n",
    "\n",
    "cost_dict = {'q1': cost_q1, 'q2': cost_q2}\n",
    "cost_dict"
   ]
  },
  {
   "cell_type": "code",
   "execution_count": 7,
   "metadata": {},
   "outputs": [
    {
     "data": {
      "text/plain": [
       "LoadJob<project=local-storm-398318, location=US, id=bd6e6f6c-2dbf-4b16-9cd8-c80b19564dd7>"
      ]
     },
     "execution_count": 7,
     "metadata": {},
     "output_type": "execute_result"
    }
   ],
   "source": [
    "dataset = bigquery.Dataset(\"local-storm-398318.p8\")\n",
    "dataset.location = \"US\"\n",
    "dataset = bq.create_dataset(dataset, exists_ok=True)\n",
    "\n",
    "config = bigquery.LoadJobConfig(source_format=\"PARQUET\", write_disposition=\"WRITE_TRUNCATE\")\n",
    "url = \"gs://cs544-p8/hdma-wi-2021.parquet\"\n",
    "job = bq.load_table_from_uri(url, \"local-storm-398318.p8.hdma\", job_config=config)\n",
    "job.result()"
   ]
  },
  {
   "cell_type": "code",
   "execution_count": 8,
   "metadata": {},
   "outputs": [
    {
     "data": {
      "text/plain": [
       "['p8']"
      ]
     },
     "execution_count": 8,
     "metadata": {},
     "output_type": "execute_result"
    }
   ],
   "source": [
    "#q4\n",
    "[ds.dataset_id for ds in bq.list_datasets(\"local-storm-398318\")]"
   ]
  },
  {
   "cell_type": "code",
   "execution_count": 9,
   "metadata": {},
   "outputs": [
    {
     "data": {
      "text/plain": [
       "{'Milwaukee': 46570,\n",
       " 'Dane': 38557,\n",
       " 'Waukesha': 34159,\n",
       " 'Brown': 15615,\n",
       " 'Racine': 13007,\n",
       " 'Outagamie': 11523,\n",
       " 'Kenosha': 10744,\n",
       " 'Washington': 10726,\n",
       " 'Rock': 9834,\n",
       " 'Winnebago': 9310}"
      ]
     },
     "execution_count": 9,
     "metadata": {},
     "output_type": "execute_result"
    }
   ],
   "source": [
    "#q5\n",
    "q5 = bq.query(\"\"\"\n",
    "    SELECT c.county_name, COUNT(*) AS num_applications\n",
    "    FROM `local-storm-398318.p8.hdma` AS h\n",
    "    JOIN bigquery-public-data.geo_us_boundaries.counties AS c\n",
    "    ON h.county_code = c.geo_id\n",
    "    GROUP BY c.county_name\n",
    "    ORDER BY num_applications DESC\n",
    "    LIMIT 10\n",
    "\"\"\", job_config=no_cache)\n",
    "\n",
    "q5.to_dataframe().set_index('county_name')['num_applications'].to_dict()"
   ]
  },
  {
   "cell_type": "code",
   "execution_count": 10,
   "metadata": {},
   "outputs": [],
   "source": [
    "url = \"https://docs.google.com/spreadsheets/d/11UeIBqQylAyNUBsIO54p6WiYJWHayQMfHDbUWq1jGco/\"\n",
    "\n",
    "external_config = bigquery.ExternalConfig(\"GOOGLE_SHEETS\")\n",
    "external_config.source_uris = [url]\n",
    "external_config.options.skip_leading_rows = 1\n",
    "external_config.autodetect = True\n",
    "\n",
    "table = bigquery.Table(\"local-storm-398318.p8.applications\")\n",
    "table.external_data_configuration = external_config\n",
    "\n",
    "table = bq.create_table(table, exists_ok=True)"
   ]
  },
  {
   "cell_type": "code",
   "execution_count": 11,
   "metadata": {},
   "outputs": [
    {
     "data": {
      "text/plain": [
       "3"
      ]
     },
     "execution_count": 11,
     "metadata": {},
     "output_type": "execute_result"
    }
   ],
   "source": [
    "#q6\n",
    "q6 = bq.query(\"\"\"\n",
    "    SELECT COUNT(*) AS num_applications\n",
    "    FROM p8.applications\n",
    "    WHERE income = 40000\n",
    "\"\"\", job_config=no_cache)\n",
    "\n",
    "q6.to_dataframe()[\"num_applications\"][0]"
   ]
  },
  {
   "cell_type": "code",
   "execution_count": 12,
   "metadata": {},
   "outputs": [
    {
     "data": {
      "text/html": [
       "<div>\n",
       "<style scoped>\n",
       "    .dataframe tbody tr th:only-of-type {\n",
       "        vertical-align: middle;\n",
       "    }\n",
       "\n",
       "    .dataframe tbody tr th {\n",
       "        vertical-align: top;\n",
       "    }\n",
       "\n",
       "    .dataframe thead th {\n",
       "        text-align: right;\n",
       "    }\n",
       "</style>\n",
       "<table border=\"1\" class=\"dataframe\">\n",
       "  <thead>\n",
       "    <tr style=\"text-align: right;\">\n",
       "      <th></th>\n",
       "    </tr>\n",
       "  </thead>\n",
       "  <tbody>\n",
       "  </tbody>\n",
       "</table>\n",
       "</div>"
      ],
      "text/plain": [
       "Empty GeoDataFrame\n",
       "Columns: []\n",
       "Index: []"
      ]
     },
     "execution_count": 12,
     "metadata": {},
     "output_type": "execute_result"
    }
   ],
   "source": [
    "bq.query(\"\"\"\n",
    "CREATE OR REPLACE TABLE `local-storm-398318.p8.wi`\n",
    "AS\n",
    "SELECT county_name, county_geom\n",
    "FROM bigquery-public-data.geo_us_boundaries.counties\n",
    "WHERE state_fips_code = '55'\n",
    "\"\"\", job_config=no_cache).to_geodataframe()\n",
    "\n",
    "bq.query(\"\"\"\n",
    "CREATE OR REPLACE TABLE p8.houses\n",
    "AS\n",
    "SELECT *, ST_GEOGPOINT(longitude, latitude) as loc\n",
    "FROM p8.applications\n",
    "\"\"\", job_config=no_cache).to_geodataframe()"
   ]
  },
  {
   "cell_type": "code",
   "execution_count": 13,
   "metadata": {},
   "outputs": [
    {
     "data": {
      "text/plain": [
       "{'Outagamie': 1,\n",
       " 'Door': 4,\n",
       " 'Sauk': 1,\n",
       " 'Green Lake': 1,\n",
       " 'Monroe': 1,\n",
       " 'Barron': 2,\n",
       " 'Oneida': 1,\n",
       " 'Sheboygan': 2,\n",
       " 'Brown': 2,\n",
       " 'Columbia': 1,\n",
       " 'Kewaunee': 1,\n",
       " 'Walworth': 2,\n",
       " 'Dane': 9,\n",
       " 'Bayfield': 1,\n",
       " 'Marinette': 2,\n",
       " 'Jefferson': 1}"
      ]
     },
     "execution_count": 13,
     "metadata": {},
     "output_type": "execute_result"
    }
   ],
   "source": [
    "#q7\n",
    "q7 = bq.query(\"\"\"\n",
    "    SELECT c.county_name, COUNT(*) AS num_applications\n",
    "    FROM p8.houses AS h\n",
    "    JOIN p8.wi AS c\n",
    "    ON ST_CONTAINS(c.county_geom, h.loc)\n",
    "    GROUP BY c.county_name       \n",
    "\"\"\", job_config=no_cache)\n",
    "\n",
    "q7.to_dataframe().set_index('county_name')['num_applications'].to_dict()"
   ]
  },
  {
   "cell_type": "code",
   "execution_count": 14,
   "metadata": {},
   "outputs": [
    {
     "data": {
      "text/plain": [
       "QueryJob<project=local-storm-398318, location=US, id=66e74f84-90d7-4c29-9a89-53e8774dc713>"
      ]
     },
     "execution_count": 14,
     "metadata": {},
     "output_type": "execute_result"
    }
   ],
   "source": [
    "bq.query(\"\"\"\n",
    "    CREATE OR REPLACE MODEL `local-storm-398318.p8.p8_model`\n",
    "    OPTIONS(MODEL_TYPE=\"LINEAR_REG\",\n",
    "            INPUT_LABEL_COLS=[\"loan_amount\"])\n",
    "    AS\n",
    "    SELECT income, loan_term, loan_amount\n",
    "    FROM p8.hdma\n",
    "\"\"\")"
   ]
  },
  {
   "cell_type": "code",
   "execution_count": 15,
   "metadata": {},
   "outputs": [],
   "source": [
    "import time\n",
    "while True:\n",
    "    model_list = [model.model_id for model in bq.list_models(\"local-storm-398318.p8\")]\n",
    "    if \"p8_model\" in model_list:  # Hint: use bq.list_models()\n",
    "        break\n",
    "    time.sleep(5)"
   ]
  },
  {
   "cell_type": "code",
   "execution_count": 16,
   "metadata": {},
   "outputs": [
    {
     "data": {
      "text/plain": [
       "0.29165412288019577"
      ]
     },
     "execution_count": 16,
     "metadata": {},
     "output_type": "execute_result"
    }
   ],
   "source": [
    "#q8\n",
    "bq.query(\"\"\"\n",
    "    SELECT *\n",
    "    FROM ML.EVALUATE(MODEL `local-storm-398318.p8.p8_model`, (\n",
    "        SELECT income, loan_term, loan_amount\n",
    "        FROM p8.hdma \n",
    "    ))\n",
    "\"\"\").to_dataframe()[\"r2_score\"][0]"
   ]
  },
  {
   "cell_type": "code",
   "execution_count": 17,
   "metadata": {},
   "outputs": [
    {
     "data": {
      "text/plain": [
       "0.8057773037176712"
      ]
     },
     "execution_count": 17,
     "metadata": {},
     "output_type": "execute_result"
    }
   ],
   "source": [
    "#q9\n",
    "bq.query(\"\"\"\n",
    "    SELECT *\n",
    "    FROM ML.WEIGHTS(MODEL `local-storm-398318.p8.p8_model`)\n",
    "\"\"\").to_dataframe().set_index(\"processed_input\").loc[\"income\", \"weight\"]"
   ]
  },
  {
   "cell_type": "code",
   "execution_count": 18,
   "metadata": {},
   "outputs": [
    {
     "data": {
      "text/plain": [
       "0.6721311475409836"
      ]
     },
     "execution_count": 18,
     "metadata": {},
     "output_type": "execute_result"
    }
   ],
   "source": [
    "#q10\n",
    "q10 = bq.query(\"\"\"\n",
    "    SELECT predicted_loan_amount, actual_loan_amount\n",
    "    from ML.PREDICT(MODEL `local-storm-398318.p8.p8_model`, \n",
    "         (SELECT income, \n",
    "         360 AS loan_term, \n",
    "         loan_amount AS actual_loan_amount\n",
    "         FROM p8.applications )\n",
    "         )\n",
    "\"\"\").to_dataframe()\n",
    "\n",
    "num_greater = len(q10[q10['actual_loan_amount'] > q10['predicted_loan_amount']])\n",
    "total = len(q10)\n",
    "num_greater / total"
   ]
  }
 ],
 "metadata": {
  "kernelspec": {
   "display_name": "Python 3",
   "language": "python",
   "name": "python3"
  },
  "language_info": {
   "codemirror_mode": {
    "name": "ipython",
    "version": 3
   },
   "file_extension": ".py",
   "mimetype": "text/x-python",
   "name": "python",
   "nbconvert_exporter": "python",
   "pygments_lexer": "ipython3",
   "version": "3.10.12"
  }
 },
 "nbformat": 4,
 "nbformat_minor": 2
}
